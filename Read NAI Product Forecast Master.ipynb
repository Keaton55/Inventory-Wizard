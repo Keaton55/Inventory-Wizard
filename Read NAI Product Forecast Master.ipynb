{
 "cells": [
  {
   "cell_type": "code",
   "execution_count": 1,
   "metadata": {
    "tags": []
   },
   "outputs": [],
   "source": [
    "import numpy as np\n",
    "import pandas as pd\n",
    "import datetime as dt"
   ]
  },
  {
   "cell_type": "code",
   "execution_count": 2,
   "metadata": {
    "scrolled": true
   },
   "outputs": [
    {
     "name": "stderr",
     "output_type": "stream",
     "text": [
      "<ipython-input-2-7e73a93bd559>:19: SettingWithCopyWarning: \n",
      "A value is trying to be set on a copy of a slice from a DataFrame.\n",
      "Try using .loc[row_indexer,col_indexer] = value instead\n",
      "\n",
      "See the caveats in the documentation: https://pandas.pydata.org/pandas-docs/stable/user_guide/indexing.html#returning-a-view-versus-a-copy\n",
      "  dfm3['schedule_date'] = pd.to_datetime(dfm3['schedule_date'], format='%Y-%m-%d').dt.strftime('%Y-%m-%d')\n",
      "<ipython-input-2-7e73a93bd559>:24: SettingWithCopyWarning: \n",
      "A value is trying to be set on a copy of a slice from a DataFrame.\n",
      "Try using .loc[row_indexer,col_indexer] = value instead\n",
      "\n",
      "See the caveats in the documentation: https://pandas.pydata.org/pandas-docs/stable/user_guide/indexing.html#returning-a-view-versus-a-copy\n",
      "  dfm4['schedule_date'] = pd.to_datetime(dfm3['schedule_date'], format='%Y-%m-%d').dt.strftime('%Y-%m-%d')\n"
     ]
    }
   ],
   "source": [
    "frct = pd.read_excel('NAI Product Forecast Master.xlsx',sheet_name='Product Forecast Master',skiprows = 2)\n",
    "frct = frct[frct['Item'].notnull()]\n",
    "klist = []\n",
    "basic = ['Sales Person', 'Customer','Item', 'Item Desc.','Group','Size', 'Sales Price','Vendor/Manufacturer','Import/Domestic(if domestic, leave it blank)','Qty','Series']\n",
    "for x in frct.columns.tolist():\n",
    "    if x not in basic:\n",
    "        klist.append(x)\n",
    "dfm = pd.melt(frct, id_vars=basic, value_vars=klist)\n",
    "dfm.columns = ['Sales Person', 'Customer','Item', 'Item Desc.','Group','Size', 'Sales Price','Vendor/Manufacturer','Import/Domestic(if domestic, leave it blank)','Qty','Series','schedule_date','Quantity']\n",
    "dfm1 = dfm[dfm['Quantity'].notnull()]\n",
    "\n",
    "dfm2 = dfm1[dfm1['Item'].notnull()]\n",
    "dfm2['Item'] = dfm2['Item'].astype(int)\n",
    "dfm2 = dfm2[dfm2['Quantity']!=0]\n",
    "dfm2 = dfm2[dfm2['Quantity']!=' ']\n",
    "dfm2 = dfm2[dfm2['Quantity']!='TBD']\n",
    "\n",
    "dfm3 = dfm2[['Customer','Item','Sales Price','schedule_date','Quantity','Import/Domestic(if domestic, leave it blank)']]\n",
    "dfm3['schedule_date'] = pd.to_datetime(dfm3['schedule_date'], format='%Y-%m-%d').dt.strftime('%Y-%m-%d')\n",
    "dfm3.columns = [\"Customer\",\"item\",'Sales Price',\"schedule_date\",\"forecast Qty\",\"Location\"]\n",
    "dfm3[\"Location\"].replace('Modified Import', 'Import')\n",
    "dfm3.to_excel('Forecast.xlsx', index=False)\n",
    "dfm4 = dfm2[['Customer','Item','Item Desc.','schedule_date','Quantity','Import/Domestic(if domestic, leave it blank)','Sales Person']]\n",
    "dfm4['schedule_date'] = pd.to_datetime(dfm3['schedule_date'], format='%Y-%m-%d').dt.strftime('%Y-%m-%d')\n",
    "dfm4.columns = [\"Customer\",\"item\",'Item Desc.',\"schedule_date\",\"forecast Qty\",\"Location\",'Sales Person']\n",
    "dfm4[\"Location\"].replace('Modified Import', 'Import')\n",
    "Name = 'NAI_BS_Forecast_TR3_'+ str(dt.datetime.today().strftime(\"%Y-%m-%d %H;%M\"))+\".xlsx\"\n",
    "dfm4.to_excel(Name, index=False)"
   ]
  },
  {
   "cell_type": "code",
   "execution_count": null,
   "metadata": {},
   "outputs": [],
   "source": []
  }
 ],
 "metadata": {
  "kernelspec": {
   "display_name": "Python 3",
   "language": "python",
   "name": "python3"
  },
  "language_info": {
   "codemirror_mode": {
    "name": "ipython",
    "version": 3
   },
   "file_extension": ".py",
   "mimetype": "text/x-python",
   "name": "python",
   "nbconvert_exporter": "python",
   "pygments_lexer": "ipython3",
   "version": "3.8.8"
  }
 },
 "nbformat": 4,
 "nbformat_minor": 4
}
